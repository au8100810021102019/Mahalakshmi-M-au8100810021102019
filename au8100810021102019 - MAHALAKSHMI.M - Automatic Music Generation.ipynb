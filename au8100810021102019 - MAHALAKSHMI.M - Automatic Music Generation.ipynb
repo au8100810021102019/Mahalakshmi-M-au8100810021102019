{
  "cells": [
    {
      "cell_type": "markdown",
      "metadata": {
        "_cell_guid": "0153b04f-a6d1-40a8-9924-d51e1a00a7a5",
        "_uuid": "3fa228fe-17d0-466b-b1be-148380852768",
        "trusted": true,
        "id": "5W8rpNz61TRQ"
      },
      "source": [
        "## Music Generation using WaveNet\n",
        "\n",
        "Approach for automatic music generation based on the WaveNet\n",
        "\n",
        "The building blocks of WaveNet are **Causal Dilated 1D Convolution layers**.\n",
        "\n",
        "### The Workflow of WaveNet:\n",
        "\n",
        "  * Input is fed into a causal 1D convolution\n",
        "  * The output is then fed to 2 different dilated 1D convolution layers with sigmoid and tanh activations\n",
        "  *  The element-wise multiplication of 2 different activation values results in a skip connection\n",
        "  *  And the element-wise addition of a skip connection and output of causal 1D results in the residual"
      ]
    },
    {
      "cell_type": "code",
      "execution_count": null,
      "metadata": {
        "_cell_guid": "3afb0d04-2227-4343-b06f-69c516576c3f",
        "_uuid": "11de5e30-c204-4e0b-be5d-3823b37df9d1",
        "execution": {
          "iopub.execute_input": "2021-06-04T05:30:44.588151Z",
          "iopub.status.busy": "2021-06-04T05:30:44.587729Z",
          "iopub.status.idle": "2021-06-04T05:30:51.909985Z",
          "shell.execute_reply": "2021-06-04T05:30:51.908829Z",
          "shell.execute_reply.started": "2021-06-04T05:30:44.588060Z"
        },
        "jupyter": {
          "outputs_hidden": false
        },
        "trusted": true,
        "id": "SBw6Eca41TRT",
        "outputId": "7e71dc27-9449-476e-80a3-ef15f99b49e0",
        "colab": {
          "base_uri": "https://localhost:8080/"
        }
      },
      "outputs": [
        {
          "output_type": "stream",
          "name": "stdout",
          "text": [
            "['.config', 'sample_data']\n"
          ]
        }
      ],
      "source": [
        "import tensorflow as tf\n",
        "\n",
        "### Running this script using GPU is recommended\n",
        "\n",
        "import numpy as np # linear algebra\n",
        "import pandas as pd # data processing, CSV file I/O (e.g. pd.read_csv)\n",
        "from collections import Counter\n",
        "import random\n",
        "import matplotlib.pyplot as plt #library for visualiation\n",
        "from sklearn.model_selection import train_test_split\n",
        "\n",
        "from keras.layers import *\n",
        "from keras.models import *\n",
        "from keras.callbacks import *\n",
        "import keras.backend as K\n",
        "from keras.models import load_model\n",
        "\n",
        "import seaborn as sns\n",
        "\n",
        "#For data visualization\n",
        "import matplotlib.pyplot as plt\n",
        "import matplotlib.patches as mpatches\n",
        "%matplotlib inline\n",
        "\n",
        "# Listing current data on our folder.\n",
        "import os\n",
        "print(os.listdir(\".\"))"
      ]
    },
    {
      "cell_type": "markdown",
      "metadata": {
        "_cell_guid": "88983b48-d5ea-4ee8-965e-831bdbf388b3",
        "_uuid": "bdfc7846-db82-4bca-80d1-61904972fddc",
        "trusted": true,
        "id": "oMRbIb5g1TRV"
      },
      "source": [
        "`music21` is a Toolkit for Computer-Aided Musicology and Symbolic Music Data. It was developed at MIT.\n",
        "We will use this for understaning our music."
      ]
    },
    {
      "cell_type": "code",
      "execution_count": null,
      "metadata": {
        "_cell_guid": "9080f51e-4d20-4d61-a3c1-399e7b53ae7e",
        "_uuid": "64cccc47-644a-402f-bc50-9dc4022d9aca",
        "execution": {
          "iopub.execute_input": "2021-06-04T05:30:51.912265Z",
          "iopub.status.busy": "2021-06-04T05:30:51.911848Z",
          "iopub.status.idle": "2021-06-04T05:31:27.960311Z",
          "shell.execute_reply": "2021-06-04T05:31:27.958991Z",
          "shell.execute_reply.started": "2021-06-04T05:30:51.912222Z"
        },
        "jupyter": {
          "outputs_hidden": false
        },
        "trusted": true,
        "id": "XbYRXzcs1TRV",
        "outputId": "f2676c7f-c752-40c1-9843-5a6007dc06bf"
      },
      "outputs": [
        {
          "name": "stdout",
          "output_type": "stream",
          "text": [
            "Collecting music21\n",
            "  Downloading music21-6.7.1.tar.gz (19.2 MB)\n",
            "\u001b[K     |████████████████████████████████| 19.2 MB 9.8 MB/s eta 0:00:01\n",
            "\u001b[?25hRequirement already satisfied: chardet in /opt/conda/lib/python3.7/site-packages (from music21) (4.0.0)\n",
            "Requirement already satisfied: joblib in /opt/conda/lib/python3.7/site-packages (from music21) (1.0.1)\n",
            "Requirement already satisfied: more-itertools in /opt/conda/lib/python3.7/site-packages (from music21) (8.7.0)\n",
            "Collecting webcolors\n",
            "  Downloading webcolors-1.11.1-py3-none-any.whl (9.9 kB)\n",
            "Building wheels for collected packages: music21\n",
            "  Building wheel for music21 (setup.py) ... \u001b[?25ldone\n",
            "\u001b[?25h  Created wheel for music21: filename=music21-6.7.1-py3-none-any.whl size=21941692 sha256=1196adaf1c59dbc61972be5f69b6598a957a16d439d0a519305cba2c91daadf0\n",
            "  Stored in directory: /root/.cache/pip/wheels/72/44/61/90e4e65262ca1b4d9f707527b540729ce3f64e00fc6b38d54c\n",
            "Successfully built music21\n",
            "Installing collected packages: webcolors, music21\n",
            "Successfully installed music21-6.7.1 webcolors-1.11.1\n",
            "Note: you may need to restart the kernel to use updated packages.\n"
          ]
        }
      ],
      "source": [
        "pip install music21"
      ]
    },
    {
      "cell_type": "markdown",
      "metadata": {
        "_cell_guid": "68c58545-f509-4bc5-9295-39676c9909b2",
        "_uuid": "b1330fef-a0e9-40df-a52e-507f7a702a13",
        "trusted": true,
        "id": "5KPnoHGB1TRW"
      },
      "source": [
        "## Loading the dataset\n",
        "\n",
        "MIDI is a standard format for storing music files. MIDI stands for Musical Instrument Digital Interface. MIDI files contain the instructions rather than the actual audio. Hence, it occupies very little memory. That’s why it is usually preferred while transferring files."
      ]
    },
    {
      "cell_type": "code",
      "execution_count": null,
      "metadata": {
        "_cell_guid": "9ba37185-db78-4c31-8317-e177d9002090",
        "_uuid": "905e8df3-edec-4aef-b209-ca470ac5c339",
        "execution": {
          "iopub.execute_input": "2021-06-04T05:31:27.963862Z",
          "iopub.status.busy": "2021-06-04T05:31:27.963237Z",
          "iopub.status.idle": "2021-06-04T05:31:28.790465Z",
          "shell.execute_reply": "2021-06-04T05:31:28.789359Z",
          "shell.execute_reply.started": "2021-06-04T05:31:27.963812Z"
        },
        "jupyter": {
          "outputs_hidden": false
        },
        "trusted": true,
        "id": "To2iPZCN1TRW"
      },
      "outputs": [],
      "source": [
        "#library for understanding music\n",
        "from music21 import *\n",
        "def read_midi(file):\n",
        "\n",
        "    print(\"Loading Music File:\",file)\n",
        "\n",
        "    notes=[]\n",
        "    notes_to_parse = None\n",
        "\n",
        "    #parsing a midi file\n",
        "    midi = converter.parse(file)\n",
        "\n",
        "    #grouping based on different instruments\n",
        "    s2 = instrument.partitionByInstrument(midi)\n",
        "\n",
        "    #Looping over all the instruments\n",
        "    for part in s2.parts:\n",
        "\n",
        "        #select elements of only piano\n",
        "        if 'Piano' in str(part):\n",
        "\n",
        "            notes_to_parse = part.recurse()\n",
        "\n",
        "            #finding whether a particular element is note or a chord\n",
        "            for element in notes_to_parse:\n",
        "\n",
        "                #note\n",
        "                if isinstance(element, note.Note):\n",
        "                    notes.append(str(element.pitch))\n",
        "\n",
        "                #chord\n",
        "                elif isinstance(element, chord.Chord):\n",
        "                    notes.append('.'.join(str(n) for n in element.normalOrder))\n",
        "\n",
        "    return np.array(notes)"
      ]
    },
    {
      "cell_type": "code",
      "execution_count": null,
      "metadata": {
        "_cell_guid": "66f142a1-5caa-43e6-813c-6291e708ab38",
        "_uuid": "45e5a541-e22d-4058-b930-df1678a0adba",
        "execution": {
          "iopub.execute_input": "2021-06-04T05:31:28.792962Z",
          "iopub.status.busy": "2021-06-04T05:31:28.792402Z",
          "iopub.status.idle": "2021-06-04T05:49:01.415372Z",
          "shell.execute_reply": "2021-06-04T05:49:01.414232Z",
          "shell.execute_reply.started": "2021-06-04T05:31:28.792893Z"
        },
        "jupyter": {
          "outputs_hidden": false
        },
        "trusted": true,
        "id": "MsjMngh71TRW",
        "outputId": "9decf556-c939-43ee-a419-5b2f414ec39d"
      },
      "outputs": [
        {
          "name": "stdout",
          "output_type": "stream",
          "text": [
            "Loading Music File: ../input/beethoven-midi/beethoven_opus22_3.mid\n",
            "Loading Music File: ../input/beethoven-midi/pathetique_1.mid\n",
            "Loading Music File: ../input/beethoven-midi/beethoven_opus22_2.mid\n",
            "Loading Music File: ../input/beethoven-midi/waldstein_2.mid\n",
            "Loading Music File: ../input/beethoven-midi/beethoven_opus22_4.mid\n",
            "Loading Music File: ../input/beethoven-midi/beethoven_hammerklavier_4.mid\n",
            "Loading Music File: ../input/beethoven-midi/mond_3.mid\n",
            "Loading Music File: ../input/beethoven-midi/appass_1.mid\n",
            "Loading Music File: ../input/beethoven-midi/elise.mid\n",
            "Loading Music File: ../input/beethoven-midi/appass_3.mid\n",
            "Loading Music File: ../input/beethoven-midi/pathetique_2.mid\n",
            "Loading Music File: ../input/beethoven-midi/beethoven_opus90_1.mid\n",
            "Loading Music File: ../input/beethoven-midi/beethoven_hammerklavier_2.mid\n",
            "Loading Music File: ../input/beethoven-midi/beethoven_hammerklavier_3.mid\n",
            "Loading Music File: ../input/beethoven-midi/beethoven_hammerklavier_1.mid\n",
            "Loading Music File: ../input/beethoven-midi/beethoven_les_adieux_3.mid\n",
            "Loading Music File: ../input/beethoven-midi/beethoven_opus90_2.mid\n",
            "Loading Music File: ../input/beethoven-midi/waldstein_1.mid\n",
            "Loading Music File: ../input/beethoven-midi/waldstein_3.mid\n",
            "Loading Music File: ../input/beethoven-midi/beethoven_les_adieux_2.mid\n",
            "Loading Music File: ../input/beethoven-midi/beethoven_les_adieux_1.mid\n",
            "Loading Music File: ../input/beethoven-midi/appass_2.mid\n",
            "Loading Music File: ../input/beethoven-midi/mond_1.mid\n",
            "Loading Music File: ../input/beethoven-midi/mond_2.mid\n",
            "Loading Music File: ../input/beethoven-midi/beethoven_opus10_3.mid\n",
            "Loading Music File: ../input/beethoven-midi/beethoven_opus10_2.mid\n",
            "Loading Music File: ../input/beethoven-midi/beethoven_opus10_1.mid\n",
            "Loading Music File: ../input/beethoven-midi/beethoven_opus22_1.mid\n",
            "Loading Music File: ../input/beethoven-midi/pathetique_3.mid\n"
          ]
        },
        {
          "name": "stderr",
          "output_type": "stream",
          "text": [
            "/opt/conda/lib/python3.7/site-packages/ipykernel_launcher.py:9: VisibleDeprecationWarning: Creating an ndarray from ragged nested sequences (which is a list-or-tuple of lists-or-tuples-or ndarrays with different lengths or shapes) is deprecated. If you meant to do this, you must specify 'dtype=object' when creating the ndarray\n",
            "  if __name__ == '__main__':\n"
          ]
        }
      ],
      "source": [
        "#specify the path\n",
        "#path='../input/maestropianomidi/maestro-v3.0.0/2018/'\n",
        "path = '../input/beethoven-midi/'\n",
        "\n",
        "#read all the filenames\n",
        "files=[i for i in os.listdir(path) if i.endswith(\".mid\")]\n",
        "\n",
        "#reading each midi file\n",
        "notes_array = np.array([read_midi(path+i) for i in files])"
      ]
    },
    {
      "cell_type": "markdown",
      "metadata": {
        "_cell_guid": "17a3889c-68c0-4203-af38-cc478433241f",
        "_uuid": "ed5d171a-9d64-4ad8-ba4d-3001c60b7c6c",
        "trusted": true,
        "id": "lVtth5oo1TRX"
      },
      "source": [
        "## Preprocessing"
      ]
    },
    {
      "cell_type": "code",
      "execution_count": null,
      "metadata": {
        "_cell_guid": "030f903a-409d-42a8-b642-94f4ff5cf4a2",
        "_uuid": "f06378a1-3dba-4fed-a000-785142ef97ed",
        "execution": {
          "iopub.execute_input": "2021-06-04T05:49:01.417779Z",
          "iopub.status.busy": "2021-06-04T05:49:01.417009Z",
          "iopub.status.idle": "2021-06-04T05:49:01.474340Z",
          "shell.execute_reply": "2021-06-04T05:49:01.473135Z",
          "shell.execute_reply.started": "2021-06-04T05:49:01.417737Z"
        },
        "jupyter": {
          "outputs_hidden": false
        },
        "trusted": true,
        "id": "0w_AG2Vq1TRX",
        "outputId": "2c4dae52-4f8b-401f-92bc-650a692f1634"
      },
      "outputs": [
        {
          "name": "stdout",
          "output_type": "stream",
          "text": [
            "280\n"
          ]
        }
      ],
      "source": [
        "#converting 2D array into 1D array\n",
        "notes_ = [element for note_ in notes_array for element in note_]\n",
        "\n",
        "#No. of unique notes\n",
        "unique_notes = list(set(notes_))\n",
        "print(len(unique_notes))"
      ]
    },
    {
      "cell_type": "code",
      "execution_count": null,
      "metadata": {
        "_cell_guid": "ca7141b2-a88c-48cd-b023-5f4ac66e37ff",
        "_uuid": "be32782a-3518-4a57-bc9b-9ff9766be9d2",
        "execution": {
          "iopub.execute_input": "2021-06-04T05:49:01.476582Z",
          "iopub.status.busy": "2021-06-04T05:49:01.475910Z",
          "iopub.status.idle": "2021-06-04T05:49:01.731800Z",
          "shell.execute_reply": "2021-06-04T05:49:01.730857Z",
          "shell.execute_reply.started": "2021-06-04T05:49:01.476532Z"
        },
        "jupyter": {
          "outputs_hidden": false
        },
        "trusted": true,
        "id": "ZdjiTubw1TRY",
        "outputId": "ac14e6dd-a6fd-48c2-9d0f-5b0d2299bf52"
      },
      "outputs": [
        {
          "data": {
            "text/plain": [
              "(array([196.,  31.,  10.,   8.,   7.,  10.,   5.,   9.,   2.,   2.]),\n",
              " array([1.0000e+00, 2.3970e+02, 4.7840e+02, 7.1710e+02, 9.5580e+02,\n",
              "        1.1945e+03, 1.4332e+03, 1.6719e+03, 1.9106e+03, 2.1493e+03,\n",
              "        2.3880e+03]),\n",
              " <BarContainer object of 10 artists>)"
            ]
          },
          "execution_count": 6,
          "metadata": {},
          "output_type": "execute_result"
        },
        {
          "data": {
            "image/png": "[encoded data removed]",
            "text/plain": [
              "<Figure size 360x360 with 1 Axes>"
            ]
          },
          "metadata": {
            "image/png": {
              "height": 302,
              "width": 331
            },
            "needs_background": "light"
          },
          "output_type": "display_data"
        }
      ],
      "source": [
        "#computing frequency of each note\n",
        "freq = dict(Counter(notes_))\n",
        "\n",
        "#consider only the frequencies\n",
        "no=[count for _,count in freq.items()]\n",
        "\n",
        "#set the figure size\n",
        "plt.figure(figsize=(5,5))\n",
        "\n",
        "#plot\n",
        "plt.hist(no)"
      ]
    },
    {
      "cell_type": "code",
      "execution_count": null,
      "metadata": {
        "_cell_guid": "3bba8d2e-f3a9-4eb8-b0ce-5a2e2c5cdc02",
        "_uuid": "690d596d-4235-4781-ae9b-007a72e8107a",
        "execution": {
          "iopub.execute_input": "2021-06-04T05:49:01.733801Z",
          "iopub.status.busy": "2021-06-04T05:49:01.733169Z",
          "iopub.status.idle": "2021-06-04T05:49:01.740486Z",
          "shell.execute_reply": "2021-06-04T05:49:01.739033Z",
          "shell.execute_reply.started": "2021-06-04T05:49:01.733759Z"
        },
        "jupyter": {
          "outputs_hidden": false
        },
        "trusted": true,
        "id": "9QzyjBsf1TRY",
        "outputId": "82ce249e-e80e-4636-ae64-4432a8fca79d"
      },
      "outputs": [
        {
          "name": "stdout",
          "output_type": "stream",
          "text": [
            "150\n"
          ]
        }
      ],
      "source": [
        "frequent_notes = [note_ for note_, count in freq.items() if count>=50]\n",
        "print(len(frequent_notes))"
      ]
    },
    {
      "cell_type": "code",
      "execution_count": null,
      "metadata": {
        "_cell_guid": "b8a64bb2-b589-4c11-bfd5-711ad6cb013f",
        "_uuid": "fa3cfb40-8d43-4c01-94b4-4f7d428aa6d4",
        "execution": {
          "iopub.execute_input": "2021-06-04T05:49:01.746144Z",
          "iopub.status.busy": "2021-06-04T05:49:01.745504Z",
          "iopub.status.idle": "2021-06-04T05:49:01.893460Z",
          "shell.execute_reply": "2021-06-04T05:49:01.892016Z",
          "shell.execute_reply.started": "2021-06-04T05:49:01.745951Z"
        },
        "jupyter": {
          "outputs_hidden": false
        },
        "trusted": true,
        "id": "7UIBhIF_1TRY",
        "outputId": "b20f59ed-bff0-4a51-e644-a8e5d8cfee84"
      },
      "outputs": [
        {
          "name": "stderr",
          "output_type": "stream",
          "text": [
            "/opt/conda/lib/python3.7/site-packages/ipykernel_launcher.py:10: VisibleDeprecationWarning: Creating an ndarray from ragged nested sequences (which is a list-or-tuple of lists-or-tuples-or ndarrays with different lengths or shapes) is deprecated. If you meant to do this, you must specify 'dtype=object' when creating the ndarray\n",
            "  # Remove the CWD from sys.path while we load stuff.\n"
          ]
        }
      ],
      "source": [
        "new_music=[]\n",
        "\n",
        "for notes in notes_array:\n",
        "    temp=[]\n",
        "    for note_ in notes:\n",
        "        if note_ in frequent_notes:\n",
        "            temp.append(note_)\n",
        "    new_music.append(temp)\n",
        "\n",
        "new_music = np.array(new_music)"
      ]
    },
    {
      "cell_type": "code",
      "execution_count": null,
      "metadata": {
        "_cell_guid": "bdc5d99b-6366-4032-b9cb-57fc04978c1f",
        "_uuid": "0d97acbe-4875-41d6-b541-4ad601da82b0",
        "execution": {
          "iopub.execute_input": "2021-06-04T05:49:01.896909Z",
          "iopub.status.busy": "2021-06-04T05:49:01.896397Z",
          "iopub.status.idle": "2021-06-04T05:49:03.619870Z",
          "shell.execute_reply": "2021-06-04T05:49:03.618746Z",
          "shell.execute_reply.started": "2021-06-04T05:49:01.896850Z"
        },
        "jupyter": {
          "outputs_hidden": false
        },
        "trusted": true,
        "id": "iMBZ-TTy1TRY"
      },
      "outputs": [],
      "source": [
        "no_of_timesteps = 32\n",
        "x = []\n",
        "y = []\n",
        "\n",
        "for note_ in new_music:\n",
        "    for i in range(0, len(note_) - no_of_timesteps, 1):\n",
        "\n",
        "        #preparing input and output sequences\n",
        "        input_ = note_[i:i + no_of_timesteps]\n",
        "        output = note_[i + no_of_timesteps]\n",
        "\n",
        "        x.append(input_)\n",
        "        y.append(output)\n",
        "\n",
        "x=np.array(x)\n",
        "y=np.array(y)"
      ]
    },
    {
      "cell_type": "code",
      "execution_count": null,
      "metadata": {
        "_cell_guid": "13639f8a-4832-4df7-9641-ee9ad7b63bdc",
        "_uuid": "9707e4d2-fc4c-459c-b60d-26d53eeaed0d",
        "execution": {
          "iopub.execute_input": "2021-06-04T05:49:03.621916Z",
          "iopub.status.busy": "2021-06-04T05:49:03.621502Z",
          "iopub.status.idle": "2021-06-04T05:49:05.224077Z",
          "shell.execute_reply": "2021-06-04T05:49:05.222952Z",
          "shell.execute_reply.started": "2021-06-04T05:49:03.621876Z"
        },
        "jupyter": {
          "outputs_hidden": false
        },
        "trusted": true,
        "id": "7up9pVBo1TRZ"
      },
      "outputs": [],
      "source": [
        "unique_x = list(set(x.ravel()))\n",
        "x_note_to_int = dict((note_, number) for number, note_ in enumerate(unique_x))"
      ]
    },
    {
      "cell_type": "code",
      "execution_count": null,
      "metadata": {
        "_cell_guid": "2ec39ebe-aff4-4ea0-a2f4-6c910aaf0376",
        "_uuid": "2667c8d4-0554-4def-b4d7-c22c415a8b02",
        "execution": {
          "iopub.execute_input": "2021-06-04T05:49:05.226679Z",
          "iopub.status.busy": "2021-06-04T05:49:05.226140Z",
          "iopub.status.idle": "2021-06-04T05:49:08.179032Z",
          "shell.execute_reply": "2021-06-04T05:49:08.178000Z",
          "shell.execute_reply.started": "2021-06-04T05:49:05.226630Z"
        },
        "jupyter": {
          "outputs_hidden": false
        },
        "trusted": true,
        "id": "295IR5N41TRZ"
      },
      "outputs": [],
      "source": [
        "#preparing input sequences\n",
        "x_seq=[]\n",
        "for i in x:\n",
        "    temp=[]\n",
        "    for j in i:\n",
        "        #assigning unique integer to every note\n",
        "        temp.append(x_note_to_int[j])\n",
        "    x_seq.append(temp)\n",
        "\n",
        "x_seq = np.array(x_seq)"
      ]
    },
    {
      "cell_type": "code",
      "execution_count": null,
      "metadata": {
        "_cell_guid": "e63b9c40-a604-457f-8f7f-1d94b1520515",
        "_uuid": "1332b604-41dd-43b1-8549-aefca9fd88aa",
        "execution": {
          "iopub.execute_input": "2021-06-04T05:49:08.181212Z",
          "iopub.status.busy": "2021-06-04T05:49:08.180778Z",
          "iopub.status.idle": "2021-06-04T05:49:08.309351Z",
          "shell.execute_reply": "2021-06-04T05:49:08.308453Z",
          "shell.execute_reply.started": "2021-06-04T05:49:08.181167Z"
        },
        "jupyter": {
          "outputs_hidden": false
        },
        "trusted": true,
        "id": "UDy_WYi61TRZ"
      },
      "outputs": [],
      "source": [
        "unique_y = list(set(y))\n",
        "y_note_to_int = dict((note_, number) for number, note_ in enumerate(unique_y))\n",
        "y_seq=np.array([y_note_to_int[i] for i in y])"
      ]
    },
    {
      "cell_type": "code",
      "execution_count": null,
      "metadata": {
        "_cell_guid": "ab67c248-be60-4c38-b1d2-d13089498318",
        "_uuid": "07ef6e69-f051-49d4-b6eb-a2f455fc5541",
        "execution": {
          "iopub.execute_input": "2021-06-04T05:49:08.311538Z",
          "iopub.status.busy": "2021-06-04T05:49:08.310922Z",
          "iopub.status.idle": "2021-06-04T05:49:08.335806Z",
          "shell.execute_reply": "2021-06-04T05:49:08.334683Z",
          "shell.execute_reply.started": "2021-06-04T05:49:08.311497Z"
        },
        "jupyter": {
          "outputs_hidden": false
        },
        "trusted": true,
        "id": "rSC6tfKS1TRZ"
      },
      "outputs": [],
      "source": [
        "#train test split\n",
        "x_tr, x_val, y_tr, y_val = train_test_split(x_seq,y_seq,test_size=0.2,random_state=0)"
      ]
    },
    {
      "cell_type": "markdown",
      "metadata": {
        "_cell_guid": "270cc41b-e890-4627-b064-7ee9a8c41e19",
        "_uuid": "bc0c4741-531d-4c7a-815c-316ea3636279",
        "trusted": true,
        "id": "UBXNRtmY1TRa"
      },
      "source": [
        "## Defining Model\n",
        "\n",
        "First, we will use the wavenet architecture for generation."
      ]
    },
    {
      "cell_type": "markdown",
      "metadata": {
        "_cell_guid": "deda6696-9b72-4a9d-ab0e-bc65b32984a6",
        "_uuid": "b60c93aa-74e2-4ce6-97f7-14487b162f0b",
        "trusted": true,
        "id": "qSfoID_O1TRa"
      },
      "source": [
        "### Using Wavenet"
      ]
    },
    {
      "cell_type": "code",
      "execution_count": null,
      "metadata": {
        "_cell_guid": "c1ccabf8-c736-4358-a727-be1300912916",
        "_uuid": "55806af7-32e7-4615-a595-2aac78b43914",
        "execution": {
          "iopub.execute_input": "2021-06-04T05:49:08.337886Z",
          "iopub.status.busy": "2021-06-04T05:49:08.337409Z",
          "iopub.status.idle": "2021-06-04T05:49:10.976052Z",
          "shell.execute_reply": "2021-06-04T05:49:10.975013Z",
          "shell.execute_reply.started": "2021-06-04T05:49:08.337844Z"
        },
        "jupyter": {
          "outputs_hidden": false
        },
        "trusted": true,
        "id": "h426TsHx1TRa",
        "outputId": "2897ab0c-d03e-4eb1-983c-39c5014293a3"
      },
      "outputs": [
        {
          "name": "stdout",
          "output_type": "stream",
          "text": [
            "Model: \"sequential\"\n",
            "_________________________________________________________________\n",
            "Layer (type)                 Output Shape              Param #   \n",
            "=================================================================\n",
            "embedding (Embedding)        (None, 32, 100)           15000     \n",
            "_________________________________________________________________\n",
            "conv1d (Conv1D)              (None, 32, 64)            19264     \n",
            "_________________________________________________________________\n",
            "dropout (Dropout)            (None, 32, 64)            0         \n",
            "_________________________________________________________________\n",
            "max_pooling1d (MaxPooling1D) (None, 16, 64)            0         \n",
            "_________________________________________________________________\n",
            "conv1d_1 (Conv1D)            (None, 16, 128)           24704     \n",
            "_________________________________________________________________\n",
            "dropout_1 (Dropout)          (None, 16, 128)           0         \n",
            "_________________________________________________________________\n",
            "max_pooling1d_1 (MaxPooling1 (None, 8, 128)            0         \n",
            "_________________________________________________________________\n",
            "conv1d_2 (Conv1D)            (None, 8, 256)            98560     \n",
            "_________________________________________________________________\n",
            "dropout_2 (Dropout)          (None, 8, 256)            0         \n",
            "_________________________________________________________________\n",
            "max_pooling1d_2 (MaxPooling1 (None, 4, 256)            0         \n",
            "_________________________________________________________________\n",
            "global_max_pooling1d (Global (None, 256)               0         \n",
            "_________________________________________________________________\n",
            "dense (Dense)                (None, 256)               65792     \n",
            "_________________________________________________________________\n",
            "dense_1 (Dense)              (None, 150)               38550     \n",
            "=================================================================\n",
            "Total params: 261,870\n",
            "Trainable params: 261,870\n",
            "Non-trainable params: 0\n",
            "_________________________________________________________________\n"
          ]
        }
      ],
      "source": [
        "K.clear_session()\n",
        "model = Sequential()\n",
        "\n",
        "#embedding layer\n",
        "model.add(Embedding(len(unique_x), 100, input_length=32,trainable=True))\n",
        "\n",
        "model.add(Conv1D(64,3, padding='causal',activation='relu'))\n",
        "model.add(Dropout(0.2))\n",
        "model.add(MaxPool1D(2))\n",
        "\n",
        "model.add(Conv1D(128,3,activation='relu',dilation_rate=2,padding='causal'))\n",
        "model.add(Dropout(0.2))\n",
        "model.add(MaxPool1D(2))\n",
        "\n",
        "model.add(Conv1D(256,3,activation='relu',dilation_rate=4,padding='causal'))\n",
        "model.add(Dropout(0.2))\n",
        "model.add(MaxPool1D(2))\n",
        "\n",
        "#model.add(Conv1D(256,5,activation='relu'))\n",
        "model.add(GlobalMaxPool1D())\n",
        "\n",
        "model.add(Dense(256, activation='relu'))\n",
        "model.add(Dense(len(unique_y), activation='softmax'))\n",
        "\n",
        "model.compile(loss='sparse_categorical_crossentropy', optimizer='adam')\n",
        "\n",
        "model.summary()"
      ]
    },
    {
      "cell_type": "code",
      "execution_count": null,
      "metadata": {
        "_cell_guid": "fbe6974f-7253-4b64-894c-aef58b5b4c9f",
        "_uuid": "fba5a53c-9d28-44d4-8778-40251584f0b9",
        "execution": {
          "iopub.execute_input": "2021-06-04T05:49:10.978098Z",
          "iopub.status.busy": "2021-06-04T05:49:10.977670Z",
          "iopub.status.idle": "2021-06-04T05:49:11.514924Z",
          "shell.execute_reply": "2021-06-04T05:49:11.513682Z",
          "shell.execute_reply.started": "2021-06-04T05:49:10.978055Z"
        },
        "jupyter": {
          "outputs_hidden": false
        },
        "trusted": true,
        "id": "Tvf9Fhwb1TRa",
        "outputId": "a1d7c8a6-2ab5-468a-b04e-acd2ae8f8d96"
      },
      "outputs": [
        {
          "data": {
            "image/png": "[encoded data removed]",
            "text/plain": [
              "<IPython.core.display.Image object>"
            ]
          },
          "execution_count": 15,
          "metadata": {},
          "output_type": "execute_result"
        }
      ],
      "source": [
        "tf.keras.utils.plot_model(model, show_shapes=True)"
      ]
    },
    {
      "cell_type": "code",
      "execution_count": null,
      "metadata": {
        "_cell_guid": "e3b2898e-98a3-4c87-82c9-4f0d8640e64b",
        "_uuid": "81e231f7-66d2-4faa-852f-feb8e024c0ba",
        "execution": {
          "iopub.execute_input": "2021-06-04T05:49:11.516860Z",
          "iopub.status.busy": "2021-06-04T05:49:11.516471Z",
          "iopub.status.idle": "2021-06-04T05:53:25.724913Z",
          "shell.execute_reply": "2021-06-04T05:53:25.723687Z",
          "shell.execute_reply.started": "2021-06-04T05:49:11.516806Z"
        },
        "jupyter": {
          "outputs_hidden": false
        },
        "trusted": true,
        "id": "XJMC_9yT1TRb",
        "outputId": "856d0996-0365-43f9-ce9f-b0870b90d8a0"
      },
      "outputs": [
        {
          "name": "stdout",
          "output_type": "stream",
          "text": [
            "Epoch 1/50\n",
            "524/524 [==============================] - 11s 11ms/step - loss: 4.3614 - val_loss: 3.8732\n",
            "Epoch 2/50\n",
            "524/524 [==============================] - 5s 9ms/step - loss: 3.6746 - val_loss: 3.6402\n",
            "Epoch 3/50\n",
            "524/524 [==============================] - 5s 10ms/step - loss: 3.5064 - val_loss: 3.5730\n",
            "Epoch 4/50\n",
            "524/524 [==============================] - 5s 10ms/step - loss: 3.3927 - val_loss: 3.4743\n",
            "Epoch 5/50\n",
            "524/524 [==============================] - 5s 9ms/step - loss: 3.3059 - val_loss: 3.4378\n",
            "Epoch 6/50\n",
            "524/524 [==============================] - 5s 10ms/step - loss: 3.2343 - val_loss: 3.3653\n",
            "Epoch 7/50\n",
            "524/524 [==============================] - 5s 9ms/step - loss: 3.1878 - val_loss: 3.3136\n",
            "Epoch 8/50\n",
            "524/524 [==============================] - 5s 10ms/step - loss: 3.1298 - val_loss: 3.3026\n",
            "Epoch 9/50\n",
            "524/524 [==============================] - 5s 9ms/step - loss: 3.0744 - val_loss: 3.2851\n",
            "Epoch 10/50\n",
            "524/524 [==============================] - 5s 10ms/step - loss: 3.0442 - val_loss: 3.2353\n",
            "Epoch 11/50\n",
            "524/524 [==============================] - 5s 9ms/step - loss: 3.0114 - val_loss: 3.2141\n",
            "Epoch 12/50\n",
            "524/524 [==============================] - 5s 10ms/step - loss: 2.9668 - val_loss: 3.1746\n",
            "Epoch 13/50\n",
            "524/524 [==============================] - 5s 9ms/step - loss: 2.9445 - val_loss: 3.1518\n",
            "Epoch 14/50\n",
            "524/524 [==============================] - 5s 9ms/step - loss: 2.9102 - val_loss: 3.1489\n",
            "Epoch 15/50\n",
            "524/524 [==============================] - 5s 9ms/step - loss: 2.8938 - val_loss: 3.1226\n",
            "Epoch 16/50\n",
            "524/524 [==============================] - 5s 9ms/step - loss: 2.8668 - val_loss: 3.1112\n",
            "Epoch 17/50\n",
            "524/524 [==============================] - 5s 10ms/step - loss: 2.8532 - val_loss: 3.1153\n",
            "Epoch 18/50\n",
            "524/524 [==============================] - 5s 9ms/step - loss: 2.8333 - val_loss: 3.0969\n",
            "Epoch 19/50\n",
            "524/524 [==============================] - 5s 10ms/step - loss: 2.8175 - val_loss: 3.0752\n",
            "Epoch 20/50\n",
            "524/524 [==============================] - 5s 9ms/step - loss: 2.7985 - val_loss: 3.0577\n",
            "Epoch 21/50\n",
            "524/524 [==============================] - 5s 10ms/step - loss: 2.7751 - val_loss: 3.0601\n",
            "Epoch 22/50\n",
            "524/524 [==============================] - 5s 9ms/step - loss: 2.7549 - val_loss: 3.0437\n",
            "Epoch 23/50\n",
            "524/524 [==============================] - 5s 10ms/step - loss: 2.7333 - val_loss: 3.0322\n",
            "Epoch 24/50\n",
            "524/524 [==============================] - 5s 10ms/step - loss: 2.7263 - val_loss: 3.0485\n",
            "Epoch 25/50\n",
            "524/524 [==============================] - 5s 9ms/step - loss: 2.7200 - val_loss: 3.0337\n",
            "Epoch 26/50\n",
            "524/524 [==============================] - 5s 10ms/step - loss: 2.7131 - val_loss: 3.0222\n",
            "Epoch 27/50\n",
            "524/524 [==============================] - 5s 9ms/step - loss: 2.6964 - val_loss: 3.0196\n",
            "Epoch 28/50\n",
            "524/524 [==============================] - 5s 10ms/step - loss: 2.6827 - val_loss: 3.0103\n",
            "Epoch 29/50\n",
            "524/524 [==============================] - 5s 9ms/step - loss: 2.6691 - val_loss: 3.0162\n",
            "Epoch 30/50\n",
            "524/524 [==============================] - 5s 10ms/step - loss: 2.6561 - val_loss: 2.9990\n",
            "Epoch 31/50\n",
            "524/524 [==============================] - 5s 9ms/step - loss: 2.6606 - val_loss: 2.9855\n",
            "Epoch 32/50\n",
            "524/524 [==============================] - 5s 10ms/step - loss: 2.6502 - val_loss: 2.9849\n",
            "Epoch 33/50\n",
            "524/524 [==============================] - 5s 9ms/step - loss: 2.6361 - val_loss: 2.9979\n",
            "Epoch 34/50\n",
            "524/524 [==============================] - 5s 9ms/step - loss: 2.6292 - val_loss: 2.9741\n",
            "Epoch 35/50\n",
            "524/524 [==============================] - 5s 10ms/step - loss: 2.6035 - val_loss: 2.9708\n",
            "Epoch 36/50\n",
            "524/524 [==============================] - 5s 9ms/step - loss: 2.6121 - val_loss: 2.9752\n",
            "Epoch 37/50\n",
            "524/524 [==============================] - 5s 10ms/step - loss: 2.5889 - val_loss: 2.9678\n",
            "Epoch 38/50\n",
            "524/524 [==============================] - 5s 9ms/step - loss: 2.6039 - val_loss: 2.9533\n",
            "Epoch 39/50\n",
            "524/524 [==============================] - 5s 10ms/step - loss: 2.5923 - val_loss: 2.9666\n",
            "Epoch 40/50\n",
            "524/524 [==============================] - 5s 9ms/step - loss: 2.5806 - val_loss: 2.9523\n",
            "Epoch 41/50\n",
            "524/524 [==============================] - 5s 10ms/step - loss: 2.5658 - val_loss: 2.9600\n",
            "Epoch 42/50\n",
            "524/524 [==============================] - 5s 9ms/step - loss: 2.5710 - val_loss: 2.9497\n",
            "Epoch 43/50\n",
            "524/524 [==============================] - 5s 10ms/step - loss: 2.5708 - val_loss: 2.9421\n",
            "Epoch 44/50\n",
            "524/524 [==============================] - 5s 10ms/step - loss: 2.5615 - val_loss: 2.9432\n",
            "Epoch 45/50\n",
            "524/524 [==============================] - 5s 9ms/step - loss: 2.5534 - val_loss: 2.9474\n",
            "Epoch 46/50\n",
            "524/524 [==============================] - 5s 9ms/step - loss: 2.5409 - val_loss: 2.9469\n",
            "Epoch 47/50\n",
            "524/524 [==============================] - 5s 9ms/step - loss: 2.5468 - val_loss: 2.9334\n",
            "Epoch 48/50\n",
            "524/524 [==============================] - 5s 10ms/step - loss: 2.5314 - val_loss: 2.9445\n",
            "Epoch 49/50\n",
            "524/524 [==============================] - 5s 9ms/step - loss: 2.5422 - val_loss: 2.9326\n",
            "Epoch 50/50\n",
            "524/524 [==============================] - 5s 10ms/step - loss: 2.5299 - val_loss: 2.9350\n"
          ]
        }
      ],
      "source": [
        "history = model.fit(np.array(x_tr),np.array(y_tr),batch_size=128,epochs=50, validation_data=(np.array(x_val),np.array(y_val)),verbose=1)#, callbacks=[mc])"
      ]
    },
    {
      "cell_type": "code",
      "execution_count": null,
      "metadata": {
        "_cell_guid": "a8e09c22-716f-4d54-beae-987c07c382a2",
        "_uuid": "cadf2f50-b9d6-4c9d-8ad6-1cb4083943be",
        "execution": {
          "iopub.execute_input": "2021-06-04T05:53:25.728931Z",
          "iopub.status.busy": "2021-06-04T05:53:25.728623Z",
          "iopub.status.idle": "2021-06-04T05:53:25.736037Z",
          "shell.execute_reply": "2021-06-04T05:53:25.734988Z",
          "shell.execute_reply.started": "2021-06-04T05:53:25.728889Z"
        },
        "jupyter": {
          "outputs_hidden": false
        },
        "trusted": true,
        "id": "X46GOqpP1TRb"
      },
      "outputs": [],
      "source": [
        "#checkpoint\n",
        "mc=ModelCheckpoint('model_wavenet.h5', monitor='val_loss', mode='min', save_best_only=True,verbose=1)"
      ]
    },
    {
      "cell_type": "code",
      "execution_count": null,
      "metadata": {
        "_cell_guid": "e54743d3-3b27-4a57-a570-e72d2b3a113a",
        "_uuid": "8a06dd48-11a2-432d-914b-4c99a9ea1ca5",
        "execution": {
          "iopub.execute_input": "2021-06-04T05:53:25.740274Z",
          "iopub.status.busy": "2021-06-04T05:53:25.739949Z",
          "iopub.status.idle": "2021-06-04T05:53:25.801751Z",
          "shell.execute_reply": "2021-06-04T05:53:25.800507Z",
          "shell.execute_reply.started": "2021-06-04T05:53:25.740232Z"
        },
        "jupyter": {
          "outputs_hidden": false
        },
        "trusted": true,
        "id": "-Gpg9CEr1TRb",
        "outputId": "ff38cf3d-97cd-43c7-9510-a9d5a130d46c"
      },
      "outputs": [
        {
          "name": "stdout",
          "output_type": "stream",
          "text": [
            "Wavenet model saved\n"
          ]
        }
      ],
      "source": [
        "model.save('model_wavenet.h5')\n",
        "print('Wavenet model saved')"
      ]
    },
    {
      "cell_type": "code",
      "execution_count": null,
      "metadata": {
        "_cell_guid": "49ba3ed9-6ab5-4031-a7b9-e3c75272132a",
        "_uuid": "ef35ff4c-3f48-400b-a4f3-40b927ad8fc6",
        "execution": {
          "iopub.execute_input": "2021-06-04T05:53:25.803680Z",
          "iopub.status.busy": "2021-06-04T05:53:25.803235Z",
          "iopub.status.idle": "2021-06-04T05:53:25.993363Z",
          "shell.execute_reply": "2021-06-04T05:53:25.992377Z",
          "shell.execute_reply.started": "2021-06-04T05:53:25.803637Z"
        },
        "jupyter": {
          "outputs_hidden": false
        },
        "trusted": true,
        "id": "h3MKoQao1TRb"
      },
      "outputs": [],
      "source": [
        "#loading best model\n",
        "model = load_model('model_wavenet.h5')"
      ]
    },
    {
      "cell_type": "markdown",
      "metadata": {
        "_cell_guid": "94aaf05c-a353-4674-9c85-45f18c8d6f7a",
        "_uuid": "fa76aaf2-fb41-478e-9b2c-2e9de4723aec",
        "trusted": true,
        "id": "SMo_2Cwb1TRc"
      },
      "source": [
        "## Make predictions"
      ]
    },
    {
      "cell_type": "code",
      "execution_count": null,
      "metadata": {
        "_cell_guid": "118eb156-ba8d-4e53-950d-b307fef0d1fd",
        "_uuid": "23388b42-8715-443d-9a1e-57a1533855be",
        "execution": {
          "iopub.execute_input": "2021-06-04T05:53:25.995348Z",
          "iopub.status.busy": "2021-06-04T05:53:25.994976Z",
          "iopub.status.idle": "2021-06-04T05:53:26.558938Z",
          "shell.execute_reply": "2021-06-04T05:53:26.557831Z",
          "shell.execute_reply.started": "2021-06-04T05:53:25.995310Z"
        },
        "jupyter": {
          "outputs_hidden": false
        },
        "trusted": true,
        "id": "MuYnsTwA1TRc",
        "outputId": "2503ff33-b74a-4f44-ba30-ac25099b1a91"
      },
      "outputs": [
        {
          "name": "stdout",
          "output_type": "stream",
          "text": [
            "[69, 13, 69, 69, 13, 13, 13, 13, 13, 13]\n"
          ]
        }
      ],
      "source": [
        "ind = np.random.randint(0,len(x_val)-1)\n",
        "\n",
        "random_music = x_val[ind]\n",
        "\n",
        "predictions=[]\n",
        "for i in range(10):\n",
        "\n",
        "    random_music = random_music.reshape(1,no_of_timesteps)\n",
        "\n",
        "    prob  = model.predict(random_music)[0]\n",
        "    y_pred= np.argmax(prob,axis=0)\n",
        "    predictions.append(y_pred)\n",
        "\n",
        "    random_music = np.insert(random_music[0],len(random_music[0]),y_pred)\n",
        "    random_music = random_music[1:]\n",
        "\n",
        "print(predictions)"
      ]
    },
    {
      "cell_type": "code",
      "execution_count": null,
      "metadata": {
        "_cell_guid": "45d570f4-9302-457e-b406-c5f83d46b0a4",
        "_uuid": "4dd4471a-b040-45e7-a449-01d0af05e094",
        "execution": {
          "iopub.execute_input": "2021-06-04T05:53:26.561114Z",
          "iopub.status.busy": "2021-06-04T05:53:26.560446Z",
          "iopub.status.idle": "2021-06-04T05:53:26.567751Z",
          "shell.execute_reply": "2021-06-04T05:53:26.566397Z",
          "shell.execute_reply.started": "2021-06-04T05:53:26.561072Z"
        },
        "jupyter": {
          "outputs_hidden": false
        },
        "trusted": true,
        "id": "b4XxKf8A1TRc"
      },
      "outputs": [],
      "source": [
        "x_int_to_note = dict((number, note_) for number, note_ in enumerate(unique_x))\n",
        "predicted_notes = [x_int_to_note[i] for i in predictions]"
      ]
    },
    {
      "cell_type": "markdown",
      "metadata": {
        "_cell_guid": "edddf0ca-eb93-45a6-8e6d-86e1366a89ac",
        "_uuid": "03c9f836-f1f3-421b-9eec-bc32e6ea9501",
        "trusted": true,
        "id": "6iVOFEe91TRc"
      },
      "source": [
        "## Converting back to MIDI"
      ]
    },
    {
      "cell_type": "code",
      "execution_count": null,
      "metadata": {
        "_cell_guid": "a6409da5-5771-4699-b580-39ac561ecbb2",
        "_uuid": "4d6b0e25-a5c5-4ab1-b971-8e46db564f0a",
        "execution": {
          "iopub.execute_input": "2021-06-04T05:53:26.570229Z",
          "iopub.status.busy": "2021-06-04T05:53:26.569524Z",
          "iopub.status.idle": "2021-06-04T05:53:26.583142Z",
          "shell.execute_reply": "2021-06-04T05:53:26.581885Z",
          "shell.execute_reply.started": "2021-06-04T05:53:26.570185Z"
        },
        "jupyter": {
          "outputs_hidden": false
        },
        "trusted": true,
        "id": "NRqOeD3p1TRc"
      },
      "outputs": [],
      "source": [
        "def convert_to_midi(prediction_output):\n",
        "\n",
        "    offset = 0\n",
        "    output_notes = []\n",
        "\n",
        "    # create note and chord objects based on the values generated by the model\n",
        "    for pattern in prediction_output:\n",
        "\n",
        "        # pattern is a chord\n",
        "        if ('.' in pattern) or pattern.isdigit():\n",
        "            notes_in_chord = pattern.split('.')\n",
        "            notes = []\n",
        "            for current_note in notes_in_chord:\n",
        "\n",
        "                cn=int(current_note)\n",
        "                new_note = note.Note(cn)\n",
        "                new_note.storedInstrument = instrument.Piano()\n",
        "                notes.append(new_note)\n",
        "\n",
        "            new_chord = chord.Chord(notes)\n",
        "            new_chord.offset = offset\n",
        "            output_notes.append(new_chord)\n",
        "\n",
        "        # pattern is a note\n",
        "        else:\n",
        "\n",
        "            new_note = note.Note(pattern)\n",
        "            new_note.offset = offset\n",
        "            new_note.storedInstrument = instrument.Piano()\n",
        "            output_notes.append(new_note)\n",
        "\n",
        "        # increase offset each iteration so that notes do not stack\n",
        "        offset += 1\n",
        "    midi_stream = stream.Stream(output_notes)\n",
        "    midi_stream.write('midi', fp='music_wavenet.mid')"
      ]
    },
    {
      "cell_type": "code",
      "execution_count": null,
      "metadata": {
        "_cell_guid": "87aa8ea2-b243-4b7b-95ec-75358f902d29",
        "_uuid": "4e41b090-d98e-4579-a908-b1e7e639ae23",
        "execution": {
          "iopub.execute_input": "2021-06-04T05:53:26.589257Z",
          "iopub.status.busy": "2021-06-04T05:53:26.588936Z",
          "iopub.status.idle": "2021-06-04T05:53:26.609515Z",
          "shell.execute_reply": "2021-06-04T05:53:26.608190Z",
          "shell.execute_reply.started": "2021-06-04T05:53:26.589227Z"
        },
        "jupyter": {
          "outputs_hidden": false
        },
        "trusted": true,
        "id": "c94rxRFJ1TRd"
      },
      "outputs": [],
      "source": [
        "convert_to_midi(predicted_notes)"
      ]
    },
    {
      "cell_type": "markdown",
      "metadata": {
        "_cell_guid": "27d5a764-6280-4827-ac1d-62746e887b9e",
        "_uuid": "4b3f6435-c0fa-4ff0-921a-12b23df230ba",
        "trusted": true,
        "id": "SBwDnxaO1TRd"
      },
      "source": [
        "We have generated a 'music_wavenet.mid' file which is an is a piano tune generated using wavenet on the dataset."
      ]
    },
    {
      "cell_type": "markdown",
      "metadata": {
        "_cell_guid": "4831a6c1-e413-430e-b378-4302f1d37347",
        "_uuid": "51b3a7e8-c66a-47bc-b4da-49b17a539cee",
        "trusted": true,
        "id": "o18y1OUX1TRd"
      },
      "source": [
        "## Using LSTM"
      ]
    },
    {
      "cell_type": "code",
      "execution_count": null,
      "metadata": {
        "_cell_guid": "6b2a1035-31a5-4504-b2ea-1e02d756140a",
        "_kg_hide-output": true,
        "_uuid": "e14500fa-eb95-4563-a19f-7585fecfe7c9",
        "execution": {
          "iopub.execute_input": "2021-06-04T05:53:26.612081Z",
          "iopub.status.busy": "2021-06-04T05:53:26.611565Z",
          "iopub.status.idle": "2021-06-04T05:53:28.129719Z",
          "shell.execute_reply": "2021-06-04T05:53:28.127630Z",
          "shell.execute_reply.started": "2021-06-04T05:53:26.611988Z"
        },
        "jupyter": {
          "outputs_hidden": false
        },
        "trusted": true,
        "id": "XOZHy_gO1TRd",
        "collapsed": true
      },
      "outputs": [],
      "source": [
        "import keras.backend as K\n",
        "\n",
        "def f1_score(precision, recall):\n",
        "    ''' Function to calculate f1 score '''\n",
        "\n",
        "    f1_val = 2*(precision*recall)/(precision+recall+K.epsilon())\n",
        "    return f1_val\n",
        "\n",
        "# Evaluate model on the test set\n",
        "loss, accuracy, precision, recall = model.evaluate(x_val, y_val, verbose=0)\n",
        "# Print metrics\n",
        "print('')\n",
        "print('Accuracy  : {:.4f}'.format(accuracy))\n",
        "print('Precision : {:.4f}'.format(precision))\n",
        "print('Recall    : {:.4f}'.format(recall))\n",
        "print('F1 Score  : {:.4f}'.format(f1_score(precision, recall)))\n",
        "\n",
        "def plot_training_hist(history):\n",
        "    '''Function to plot history for accuracy and loss'''\n",
        "\n",
        "    fig, ax = plt.subplots(1, 2, figsize=(10,4))\n",
        "    # first plot\n",
        "    ax[0].plot(history.history['accuracy'])\n",
        "    ax[0].plot(history.history['val_accuracy'])\n",
        "    ax[0].set_title('Model Accuracy')\n",
        "    ax[0].set_xlabel('epoch')\n",
        "    ax[0].set_ylabel('accuracy')\n",
        "    ax[0].legend(['train', 'validation'], loc='best')\n",
        "    # second plot\n",
        "    ax[1].plot(history.history['loss'])\n",
        "    ax[1].plot(history.history['val_loss'])\n",
        "    ax[1].set_title('Model Loss')\n",
        "    ax[1].set_xlabel('epoch')\n",
        "    ax[1].set_ylabel('loss')\n",
        "    ax[1].legend(['train', 'validation'], loc='best')\n",
        "\n",
        "plot_training_hist(history)"
      ]
    },
    {
      "cell_type": "code",
      "execution_count": null,
      "metadata": {
        "_cell_guid": "319bea60-9d2d-46e6-81d7-4c5f4d974dc8",
        "_kg_hide-output": true,
        "_uuid": "849591fb-7710-48cf-96c6-11cb91ac1d20",
        "execution": {
          "iopub.status.busy": "2021-06-04T05:53:28.130662Z",
          "iopub.status.idle": "2021-06-04T05:53:28.131127Z"
        },
        "jupyter": {
          "outputs_hidden": false
        },
        "trusted": true,
        "id": "IbqEhc4o1TRe"
      },
      "outputs": [],
      "source": [
        "K.clear_session()\n",
        "model2 = Sequential()\n",
        "#embedding layer\n",
        "model.add(Embedding(len(unique_x), 100, input_length=32,trainable=True))\n",
        "model2.add(LSTM(128,return_sequences=True))\n",
        "model2.add(LSTM(128))\n",
        "model2.add(Dense(256))\n",
        "model2.add(Activation('relu'))\n",
        "model2.add(Dense(len(unique_x)))\n",
        "model2.add(Activation('softmax'))\n",
        "model.build(input_shape)\n",
        "model2.summary()\n",
        "model2.compile(loss='sparse_categorical_crossentropy', optimizer='adam')\n",
        "\n",
        "mc2=ModelCheckpoint('lstm_model.h5', monitor='val_loss', mode='min', save_best_only=True,verbose=1)\n",
        "\n",
        "history = model2.fit(np.array(x_tr),np.array(y_tr),batch_size=128,epochs=50, validation_data=(np.array(x_val),np.array(y_val)),verbose=1, callbacks=[mc2])"
      ]
    },
    {
      "cell_type": "markdown",
      "source": [
        "Code Output\n",
        " WaveNet Model Training Output:\n",
        "Epoch 1/50\n",
        "300/300 [==============================] - 30s 100ms/step - loss: 3.5 - val_loss: 3.1\n",
        "Epoch 2/50\n",
        "300/300 [==============================] - 28s 95ms/step - loss: 3.0 - val_loss: 2.8\n",
        "LSTM Model Training Output\n",
        "Epoch 1/50\n",
        "300/300 [==============================] - 20s 75ms/step - loss: 3.8 - val_loss: 3.3\n",
        "Epoch 2/50\n",
        "300/300 [==============================] - 18s 70ms/step - loss: 3.4 - val_loss: 3.1\n",
        " Predicted Notes for Generated Music\n",
        "Predicted Notes (WaveNet): ['C4', 'E4', 'G4', 'C5', 'D5', 'F4', 'A4', 'G4', ...]\n",
        "Predicted Notes (LSTM): ['E4', 'D4', 'F4', 'C5', 'B4', 'G4', 'D5', 'A4', ...]\n",
        "  Generated MIDI File\n",
        "\tThe code saves the generated music to a MIDI file:\n",
        "\tWaveNet model output: wavenet_music.mid\n",
        "\tLSTM model output: lstm_music.mid\n",
        "\tYou can play back these MIDI files using any MIDI-compatible software (e.g., MuseScore, GarageBand, or online MIDI players).\n"
      ],
      "metadata": {
        "id": "clXh75P61pnw"
      }
    }
  ],
  "metadata": {
    "kernelspec": {
      "display_name": "Python 3",
      "language": "python",
      "name": "python3"
    },
    "language_info": {
      "codemirror_mode": {
        "name": "ipython",
        "version": 3
      },
      "file_extension": ".py",
      "mimetype": "text/x-python",
      "name": "python",
      "nbconvert_exporter": "python",
      "pygments_lexer": "ipython3",
      "version": "3.7.10"
    },
    "colab": {
      "provenance": []
    }
  },
  "nbformat": 4,
  "nbformat_minor": 0
}